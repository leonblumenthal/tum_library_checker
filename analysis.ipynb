{
 "cells": [
  {
   "cell_type": "code",
   "execution_count": 5,
   "metadata": {},
   "outputs": [],
   "source": [
    "import plotly.express as px\n",
    "\n",
    "from crawler.utils import read_bookings_csv"
   ]
  },
  {
   "cell_type": "code",
   "execution_count": 2,
   "metadata": {},
   "outputs": [
    {
     "data": {
      "text/html": [
       "<div>\n",
       "<style scoped>\n",
       "    .dataframe tbody tr th:only-of-type {\n",
       "        vertical-align: middle;\n",
       "    }\n",
       "\n",
       "    .dataframe tbody tr th {\n",
       "        vertical-align: top;\n",
       "    }\n",
       "\n",
       "    .dataframe thead th {\n",
       "        text-align: right;\n",
       "    }\n",
       "</style>\n",
       "<table border=\"1\" class=\"dataframe\">\n",
       "  <thead>\n",
       "    <tr style=\"text-align: right;\">\n",
       "      <th></th>\n",
       "      <th>library</th>\n",
       "      <th>day</th>\n",
       "      <th>period_start</th>\n",
       "      <th>period_end</th>\n",
       "      <th>bookable</th>\n",
       "      <th>offset</th>\n",
       "    </tr>\n",
       "    <tr>\n",
       "      <th>timestamp</th>\n",
       "      <th></th>\n",
       "      <th></th>\n",
       "      <th></th>\n",
       "      <th></th>\n",
       "      <th></th>\n",
       "      <th></th>\n",
       "    </tr>\n",
       "  </thead>\n",
       "  <tbody>\n",
       "    <tr>\n",
       "      <th>2022-01-08 15:29:02+01:00</th>\n",
       "      <td>Main Campus</td>\n",
       "      <td>2022-01-09</td>\n",
       "      <td>0 days 15:00:00</td>\n",
       "      <td>0 days 21:30:00</td>\n",
       "      <td>False</td>\n",
       "      <td>-1 days +15:29:00</td>\n",
       "    </tr>\n",
       "    <tr>\n",
       "      <th>2022-01-08 15:29:02+01:00</th>\n",
       "      <td>Mathematics &amp; Informatics</td>\n",
       "      <td>2022-01-09</td>\n",
       "      <td>0 days 10:00:00</td>\n",
       "      <td>0 days 14:30:00</td>\n",
       "      <td>True</td>\n",
       "      <td>-1 days +15:29:00</td>\n",
       "    </tr>\n",
       "    <tr>\n",
       "      <th>2022-01-08 15:29:02+01:00</th>\n",
       "      <td>Mathematics &amp; Informatics</td>\n",
       "      <td>2022-01-09</td>\n",
       "      <td>0 days 15:00:00</td>\n",
       "      <td>0 days 19:30:00</td>\n",
       "      <td>True</td>\n",
       "      <td>-1 days +15:29:00</td>\n",
       "    </tr>\n",
       "    <tr>\n",
       "      <th>2022-01-08 15:29:02+01:00</th>\n",
       "      <td>Life Sciences</td>\n",
       "      <td>2022-01-09</td>\n",
       "      <td>0 days 10:00:00</td>\n",
       "      <td>0 days 14:30:00</td>\n",
       "      <td>True</td>\n",
       "      <td>-1 days +15:29:00</td>\n",
       "    </tr>\n",
       "    <tr>\n",
       "      <th>2022-01-08 15:29:02+01:00</th>\n",
       "      <td>Life Sciences</td>\n",
       "      <td>2022-01-09</td>\n",
       "      <td>0 days 15:00:00</td>\n",
       "      <td>0 days 19:30:00</td>\n",
       "      <td>True</td>\n",
       "      <td>-1 days +15:29:00</td>\n",
       "    </tr>\n",
       "  </tbody>\n",
       "</table>\n",
       "</div>"
      ],
      "text/plain": [
       "                                             library        day  \\\n",
       "timestamp                                                         \n",
       "2022-01-08 15:29:02+01:00                Main Campus 2022-01-09   \n",
       "2022-01-08 15:29:02+01:00  Mathematics & Informatics 2022-01-09   \n",
       "2022-01-08 15:29:02+01:00  Mathematics & Informatics 2022-01-09   \n",
       "2022-01-08 15:29:02+01:00              Life Sciences 2022-01-09   \n",
       "2022-01-08 15:29:02+01:00              Life Sciences 2022-01-09   \n",
       "\n",
       "                             period_start      period_end  bookable  \\\n",
       "timestamp                                                             \n",
       "2022-01-08 15:29:02+01:00 0 days 15:00:00 0 days 21:30:00     False   \n",
       "2022-01-08 15:29:02+01:00 0 days 10:00:00 0 days 14:30:00      True   \n",
       "2022-01-08 15:29:02+01:00 0 days 15:00:00 0 days 19:30:00      True   \n",
       "2022-01-08 15:29:02+01:00 0 days 10:00:00 0 days 14:30:00      True   \n",
       "2022-01-08 15:29:02+01:00 0 days 15:00:00 0 days 19:30:00      True   \n",
       "\n",
       "                                     offset  \n",
       "timestamp                                    \n",
       "2022-01-08 15:29:02+01:00 -1 days +15:29:00  \n",
       "2022-01-08 15:29:02+01:00 -1 days +15:29:00  \n",
       "2022-01-08 15:29:02+01:00 -1 days +15:29:00  \n",
       "2022-01-08 15:29:02+01:00 -1 days +15:29:00  \n",
       "2022-01-08 15:29:02+01:00 -1 days +15:29:00  "
      ]
     },
     "execution_count": 2,
     "metadata": {},
     "output_type": "execute_result"
    }
   ],
   "source": [
    "bookings = read_bookings_csv('data/bookings.csv', 'data/shorts.txt')\n",
    "bookings.tail()"
   ]
  },
  {
   "cell_type": "code",
   "execution_count": 3,
   "metadata": {},
   "outputs": [
    {
     "data": {
      "text/plain": [
       "['Main Campus',\n",
       " 'Mathematics & Informatics',\n",
       " 'Life Sciences',\n",
       " 'Medicine',\n",
       " 'Chemistry',\n",
       " 'Mechanical Engineering',\n",
       " 'Physics',\n",
       " 'Renewable Resources']"
      ]
     },
     "execution_count": 3,
     "metadata": {},
     "output_type": "execute_result"
    }
   ],
   "source": [
    "libraries = bookings.library.unique().tolist()\n",
    "libraries"
   ]
  },
  {
   "cell_type": "code",
   "execution_count": 4,
   "metadata": {},
   "outputs": [
    {
     "data": {
      "image/svg+xml": "<svg class=\"main-svg\" xmlns=\"http://www.w3.org/2000/svg\" xmlns:xlink=\"http://www.w3.org/1999/xlink\" width=\"1000\" height=\"500\" style=\"\" viewBox=\"0 0 1000 500\"><rect x=\"0\" y=\"0\" width=\"1000\" height=\"500\" style=\"fill: rgb(255, 255, 255); fill-opacity: 1;\"/><defs id=\"defs-4e40c7\"><g class=\"clips\"><clipPath id=\"clip4e40c7xyplot\" class=\"plotclip\"><rect width=\"770\" height=\"269.5\"/></clipPath><clipPath class=\"axesclip\" id=\"clip4e40c7x\"><rect x=\"122\" y=\"0\" width=\"770\" height=\"500\"/></clipPath><clipPath class=\"axesclip\" id=\"clip4e40c7y\"><rect x=\"0\" y=\"125.24999999999999\" width=\"1000\" height=\"269.5\"/></clipPath><clipPath class=\"axesclip\" id=\"clip4e40c7xy\"><rect x=\"122\" y=\"125.24999999999999\" width=\"770\" height=\"269.5\"/></clipPath></g><g class=\"gradients\"><linearGradient x1=\"0\" x2=\"0\" y1=\"1\" y2=\"0\" id=\"g4e40c7-cbcoloraxis\"><stop offset=\"0%\" stop-color=\"rgb(13, 8, 135)\" stop-opacity=\"1\"/><stop offset=\"11.111111%\" stop-color=\"rgb(70, 3, 159)\" stop-opacity=\"1\"/><stop offset=\"22.222222%\" stop-color=\"rgb(114, 1, 168)\" stop-opacity=\"1\"/><stop offset=\"33.333333%\" stop-color=\"rgb(156, 23, 158)\" stop-opacity=\"1\"/><stop offset=\"44.444444%\" stop-color=\"rgb(189, 55, 134)\" stop-opacity=\"1\"/><stop offset=\"55.555556%\" stop-color=\"rgb(216, 87, 107)\" stop-opacity=\"1\"/><stop offset=\"66.666667%\" stop-color=\"rgb(237, 121, 83)\" stop-opacity=\"1\"/><stop offset=\"77.777778%\" stop-color=\"rgb(251, 159, 58)\" stop-opacity=\"1\"/><stop offset=\"88.888889%\" stop-color=\"rgb(253, 202, 38)\" stop-opacity=\"1\"/><stop offset=\"100%\" stop-color=\"rgb(240, 249, 33)\" stop-opacity=\"1\"/></linearGradient></g><g class=\"patterns\"/></defs><g class=\"bglayer\"><rect class=\"bg\" x=\"122\" y=\"125.24999999999999\" width=\"770\" height=\"269.5\" style=\"fill: rgb(229, 236, 246); fill-opacity: 1; stroke-width: 0;\"/></g><g class=\"layer-below\"><g class=\"imagelayer\"/><g class=\"shapelayer\"/></g><g class=\"cartesianlayer\"><g class=\"subplot xy\"><g class=\"layer-subplot\"><g class=\"shapelayer\"/><g class=\"imagelayer\"/></g><g class=\"gridlayer\"><g class=\"x\"><path class=\"xgrid crisp\" transform=\"translate(430,0)\" d=\"M0,125.24999999999999v269.5\" style=\"stroke: rgb(255, 255, 255); stroke-opacity: 1; stroke-width: 1px;\"/><path class=\"xgrid crisp\" transform=\"translate(738,0)\" d=\"M0,125.24999999999999v269.5\" style=\"stroke: rgb(255, 255, 255); stroke-opacity: 1; stroke-width: 1px;\"/></g><g class=\"y\"><path class=\"ygrid crisp\" transform=\"translate(0,131.67)\" d=\"M122,0h770\" style=\"stroke: rgb(255, 255, 255); stroke-opacity: 1; stroke-width: 1px;\"/><path class=\"ygrid crisp\" transform=\"translate(0,138.07999999999998)\" d=\"M122,0h770\" style=\"stroke: rgb(255, 255, 255); stroke-opacity: 1; stroke-width: 1px;\"/><path class=\"ygrid crisp\" transform=\"translate(0,144.5)\" d=\"M122,0h770\" style=\"stroke: rgb(255, 255, 255); stroke-opacity: 1; stroke-width: 1px;\"/><path class=\"ygrid crisp\" transform=\"translate(0,150.92)\" d=\"M122,0h770\" style=\"stroke: rgb(255, 255, 255); stroke-opacity: 1; stroke-width: 1px;\"/><path class=\"ygrid crisp\" transform=\"translate(0,157.32999999999998)\" d=\"M122,0h770\" style=\"stroke: rgb(255, 255, 255); stroke-opacity: 1; stroke-width: 1px;\"/><path class=\"ygrid crisp\" transform=\"translate(0,163.75)\" d=\"M122,0h770\" style=\"stroke: rgb(255, 255, 255); stroke-opacity: 1; stroke-width: 1px;\"/><path class=\"ygrid crisp\" transform=\"translate(0,170.17)\" d=\"M122,0h770\" style=\"stroke: rgb(255, 255, 255); stroke-opacity: 1; stroke-width: 1px;\"/><path class=\"ygrid crisp\" transform=\"translate(0,176.57999999999998)\" d=\"M122,0h770\" style=\"stroke: rgb(255, 255, 255); stroke-opacity: 1; stroke-width: 1px;\"/><path class=\"ygrid crisp\" transform=\"translate(0,183)\" d=\"M122,0h770\" style=\"stroke: rgb(255, 255, 255); stroke-opacity: 1; stroke-width: 1px;\"/><path class=\"ygrid crisp\" transform=\"translate(0,189.42)\" d=\"M122,0h770\" style=\"stroke: rgb(255, 255, 255); stroke-opacity: 1; stroke-width: 1px;\"/><path class=\"ygrid crisp\" transform=\"translate(0,195.82999999999998)\" d=\"M122,0h770\" style=\"stroke: rgb(255, 255, 255); stroke-opacity: 1; stroke-width: 1px;\"/><path class=\"ygrid crisp\" transform=\"translate(0,202.25)\" d=\"M122,0h770\" style=\"stroke: rgb(255, 255, 255); stroke-opacity: 1; stroke-width: 1px;\"/><path class=\"ygrid crisp\" transform=\"translate(0,208.67)\" d=\"M122,0h770\" style=\"stroke: rgb(255, 255, 255); stroke-opacity: 1; stroke-width: 1px;\"/><path class=\"ygrid crisp\" transform=\"translate(0,215.07999999999998)\" d=\"M122,0h770\" style=\"stroke: rgb(255, 255, 255); stroke-opacity: 1; stroke-width: 1px;\"/><path class=\"ygrid crisp\" transform=\"translate(0,221.5)\" d=\"M122,0h770\" style=\"stroke: rgb(255, 255, 255); stroke-opacity: 1; stroke-width: 1px;\"/><path class=\"ygrid crisp\" transform=\"translate(0,227.92)\" d=\"M122,0h770\" style=\"stroke: rgb(255, 255, 255); stroke-opacity: 1; stroke-width: 1px;\"/><path class=\"ygrid crisp\" transform=\"translate(0,234.32999999999998)\" d=\"M122,0h770\" style=\"stroke: rgb(255, 255, 255); stroke-opacity: 1; stroke-width: 1px;\"/><path class=\"ygrid crisp\" transform=\"translate(0,240.75)\" d=\"M122,0h770\" style=\"stroke: rgb(255, 255, 255); stroke-opacity: 1; stroke-width: 1px;\"/><path class=\"ygrid crisp\" transform=\"translate(0,247.17)\" d=\"M122,0h770\" style=\"stroke: rgb(255, 255, 255); stroke-opacity: 1; stroke-width: 1px;\"/><path class=\"ygrid crisp\" transform=\"translate(0,253.57999999999998)\" d=\"M122,0h770\" style=\"stroke: rgb(255, 255, 255); stroke-opacity: 1; stroke-width: 1px;\"/><path class=\"ygrid crisp\" transform=\"translate(0,260)\" d=\"M122,0h770\" style=\"stroke: rgb(255, 255, 255); stroke-opacity: 1; stroke-width: 1px;\"/><path class=\"ygrid crisp\" transform=\"translate(0,266.41999999999996)\" d=\"M122,0h770\" style=\"stroke: rgb(255, 255, 255); stroke-opacity: 1; stroke-width: 1px;\"/><path class=\"ygrid crisp\" transform=\"translate(0,272.83)\" d=\"M122,0h770\" style=\"stroke: rgb(255, 255, 255); stroke-opacity: 1; stroke-width: 1px;\"/><path class=\"ygrid crisp\" transform=\"translate(0,279.25)\" d=\"M122,0h770\" style=\"stroke: rgb(255, 255, 255); stroke-opacity: 1; stroke-width: 1px;\"/><path class=\"ygrid crisp\" transform=\"translate(0,285.66999999999996)\" d=\"M122,0h770\" style=\"stroke: rgb(255, 255, 255); stroke-opacity: 1; stroke-width: 1px;\"/><path class=\"ygrid crisp\" transform=\"translate(0,292.08)\" d=\"M122,0h770\" style=\"stroke: rgb(255, 255, 255); stroke-opacity: 1; stroke-width: 1px;\"/><path class=\"ygrid crisp\" transform=\"translate(0,298.5)\" d=\"M122,0h770\" style=\"stroke: rgb(255, 255, 255); stroke-opacity: 1; stroke-width: 1px;\"/><path class=\"ygrid crisp\" transform=\"translate(0,304.91999999999996)\" d=\"M122,0h770\" style=\"stroke: rgb(255, 255, 255); stroke-opacity: 1; stroke-width: 1px;\"/><path class=\"ygrid crisp\" transform=\"translate(0,311.33)\" d=\"M122,0h770\" style=\"stroke: rgb(255, 255, 255); stroke-opacity: 1; stroke-width: 1px;\"/><path class=\"ygrid crisp\" transform=\"translate(0,317.75)\" d=\"M122,0h770\" style=\"stroke: rgb(255, 255, 255); stroke-opacity: 1; stroke-width: 1px;\"/><path class=\"ygrid crisp\" transform=\"translate(0,324.16999999999996)\" d=\"M122,0h770\" style=\"stroke: rgb(255, 255, 255); stroke-opacity: 1; stroke-width: 1px;\"/><path class=\"ygrid crisp\" transform=\"translate(0,330.58)\" d=\"M122,0h770\" style=\"stroke: rgb(255, 255, 255); stroke-opacity: 1; stroke-width: 1px;\"/><path class=\"ygrid crisp\" transform=\"translate(0,337)\" d=\"M122,0h770\" style=\"stroke: rgb(255, 255, 255); stroke-opacity: 1; stroke-width: 1px;\"/><path class=\"ygrid crisp\" transform=\"translate(0,343.41999999999996)\" d=\"M122,0h770\" style=\"stroke: rgb(255, 255, 255); stroke-opacity: 1; stroke-width: 1px;\"/><path class=\"ygrid crisp\" transform=\"translate(0,349.83)\" d=\"M122,0h770\" style=\"stroke: rgb(255, 255, 255); stroke-opacity: 1; stroke-width: 1px;\"/><path class=\"ygrid crisp\" transform=\"translate(0,356.25)\" d=\"M122,0h770\" style=\"stroke: rgb(255, 255, 255); stroke-opacity: 1; stroke-width: 1px;\"/><path class=\"ygrid crisp\" transform=\"translate(0,362.66999999999996)\" d=\"M122,0h770\" style=\"stroke: rgb(255, 255, 255); stroke-opacity: 1; stroke-width: 1px;\"/><path class=\"ygrid crisp\" transform=\"translate(0,369.08)\" d=\"M122,0h770\" style=\"stroke: rgb(255, 255, 255); stroke-opacity: 1; stroke-width: 1px;\"/><path class=\"ygrid crisp\" transform=\"translate(0,375.5)\" d=\"M122,0h770\" style=\"stroke: rgb(255, 255, 255); stroke-opacity: 1; stroke-width: 1px;\"/><path class=\"ygrid crisp\" transform=\"translate(0,381.92)\" d=\"M122,0h770\" style=\"stroke: rgb(255, 255, 255); stroke-opacity: 1; stroke-width: 1px;\"/><path class=\"ygrid crisp\" transform=\"translate(0,388.33)\" d=\"M122,0h770\" style=\"stroke: rgb(255, 255, 255); stroke-opacity: 1; stroke-width: 1px;\"/></g></g><g class=\"zerolinelayer\"><path class=\"xzl zl crisp\" transform=\"translate(125.21,0)\" d=\"M0,125.24999999999999v269.5\" style=\"stroke: rgb(255, 255, 255); stroke-opacity: 1; stroke-width: 2px;\"/><path class=\"yzl zl crisp\" transform=\"translate(0,128.45999999999998)\" d=\"M122,0h770\" style=\"stroke: rgb(255, 255, 255); stroke-opacity: 1; stroke-width: 2px;\"/></g><path class=\"xlines-below\"/><path class=\"ylines-below\"/><g class=\"overlines-below\"/><g class=\"xaxislayer-below\"/><g class=\"yaxislayer-below\"/><g class=\"overaxes-below\"/><g class=\"plot\" transform=\"translate(122,125.24999999999999)\" clip-path=\"url(#clip4e40c7xyplot)\"><g class=\"heatmaplayer mlayer\"><g class=\"hm\"><image xmlns=\"http://www.w3.org/2000/svg\" preserveAspectRatio=\"none\" height=\"270\" width=\"770\" x=\"0\" y=\"0\" xlink:href=\"data:image/png;base64,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\" style=\"opacity: 1;\"/></g></g></g><g class=\"overplot\"/><path class=\"xlines-above crisp\" d=\"M0,0\" style=\"fill: none;\"/><path class=\"ylines-above crisp\" d=\"M0,0\" style=\"fill: none;\"/><g class=\"overlines-above\"/><g class=\"xaxislayer-above\"><g class=\"xtick\"><text text-anchor=\"middle\" x=\"0\" y=\"407.75\" transform=\"translate(122,0)\" style=\"font-family: 'Open Sans', verdana, arial, sans-serif; font-size: 12px; fill: rgb(42, 63, 95); fill-opacity: 1; white-space: pre; opacity: 1;\"><tspan class=\"line\" dy=\"0em\" x=\"0\" y=\"407.75\">00:00</tspan><tspan class=\"line\" dy=\"1.3em\" x=\"0\" y=\"407.75\">day before</tspan></text></g><g class=\"xtick\"><text text-anchor=\"middle\" x=\"0\" y=\"407.75\" style=\"font-family: 'Open Sans', verdana, arial, sans-serif; font-size: 12px; fill: rgb(42, 63, 95); fill-opacity: 1; white-space: pre; opacity: 1;\" transform=\"translate(430,0)\"><tspan class=\"line\" dy=\"0em\" x=\"0\" y=\"407.75\">12:00</tspan><tspan class=\"line\" dy=\"1.3em\" x=\"0\" y=\"407.75\">day before</tspan></text></g><g class=\"xtick\"><text text-anchor=\"middle\" x=\"0\" y=\"407.75\" style=\"font-family: 'Open Sans', verdana, arial, sans-serif; font-size: 12px; fill: rgb(42, 63, 95); fill-opacity: 1; white-space: pre; opacity: 1;\" transform=\"translate(738,0)\"><tspan class=\"line\" dy=\"0em\" x=\"0\" y=\"407.75\">00:00</tspan><tspan class=\"line\" dy=\"1.3em\" x=\"0\" y=\"407.75\">booking day</tspan></text></g><g class=\"xtick\"><text text-anchor=\"middle\" x=\"0\" y=\"407.75\" style=\"font-family: 'Open Sans', verdana, arial, sans-serif; font-size: 12px; fill: rgb(42, 63, 95); fill-opacity: 1; white-space: pre; opacity: 1;\" transform=\"translate(892,0)\"><tspan class=\"line\" dy=\"0em\" x=\"0\" y=\"407.75\">06:00</tspan><tspan class=\"line\" dy=\"1.3em\" x=\"0\" y=\"407.75\">booking day</tspan></text></g></g><g class=\"yaxislayer-above\"><g class=\"ytick\"><text text-anchor=\"end\" x=\"121\" y=\"4.199999999999999\" transform=\"translate(0,131.67)\" style=\"font-family: 'Open Sans', verdana, arial, sans-serif; font-size: 12px; fill: rgb(42, 63, 95); fill-opacity: 1; white-space: pre; opacity: 1;\">Su 2021-12-12</text></g><g class=\"ytick\"><text text-anchor=\"end\" x=\"121\" y=\"4.199999999999999\" style=\"font-family: 'Open Sans', verdana, arial, sans-serif; font-size: 12px; fill: rgb(42, 63, 95); fill-opacity: 1; white-space: pre; opacity: 1;\" transform=\"translate(0,138.07999999999998)\"> </text></g><g class=\"ytick\"><text text-anchor=\"end\" x=\"121\" y=\"4.199999999999999\" style=\"font-family: 'Open Sans', verdana, arial, sans-serif; font-size: 12px; fill: rgb(42, 63, 95); fill-opacity: 1; white-space: pre; opacity: 1;\" transform=\"translate(0,144.5)\">Mo 2021-12-13</text></g><g class=\"ytick\"><text text-anchor=\"end\" x=\"121\" y=\"4.199999999999999\" style=\"font-family: 'Open Sans', verdana, arial, sans-serif; font-size: 12px; fill: rgb(42, 63, 95); fill-opacity: 1; white-space: pre; opacity: 1;\" transform=\"translate(0,150.92)\"> </text></g><g class=\"ytick\"><text text-anchor=\"end\" x=\"121\" y=\"4.199999999999999\" style=\"font-family: 'Open Sans', verdana, arial, sans-serif; font-size: 12px; fill: rgb(42, 63, 95); fill-opacity: 1; white-space: pre; opacity: 1;\" transform=\"translate(0,157.32999999999998)\">Tu 2021-12-14</text></g><g class=\"ytick\"><text text-anchor=\"end\" x=\"121\" y=\"4.199999999999999\" style=\"font-family: 'Open Sans', verdana, arial, sans-serif; font-size: 12px; fill: rgb(42, 63, 95); fill-opacity: 1; white-space: pre; opacity: 1;\" transform=\"translate(0,163.75)\"> </text></g><g class=\"ytick\"><text text-anchor=\"end\" x=\"121\" y=\"4.199999999999999\" style=\"font-family: 'Open Sans', verdana, arial, sans-serif; font-size: 12px; fill: rgb(42, 63, 95); fill-opacity: 1; white-space: pre; opacity: 1;\" transform=\"translate(0,170.17)\">We 2021-12-15</text></g><g class=\"ytick\"><text text-anchor=\"end\" x=\"121\" y=\"4.199999999999999\" style=\"font-family: 'Open Sans', verdana, arial, sans-serif; font-size: 12px; fill: rgb(42, 63, 95); fill-opacity: 1; white-space: pre; opacity: 1;\" transform=\"translate(0,176.57999999999998)\"> </text></g><g class=\"ytick\"><text text-anchor=\"end\" x=\"121\" y=\"4.199999999999999\" style=\"font-family: 'Open Sans', verdana, arial, sans-serif; font-size: 12px; fill: rgb(42, 63, 95); fill-opacity: 1; white-space: pre; opacity: 1;\" transform=\"translate(0,183)\">Th 2021-12-16</text></g><g class=\"ytick\"><text text-anchor=\"end\" x=\"121\" y=\"4.199999999999999\" style=\"font-family: 'Open Sans', verdana, arial, sans-serif; font-size: 12px; fill: rgb(42, 63, 95); fill-opacity: 1; white-space: pre; opacity: 1;\" transform=\"translate(0,189.42)\"> </text></g><g class=\"ytick\"><text text-anchor=\"end\" x=\"121\" y=\"4.199999999999999\" style=\"font-family: 'Open Sans', verdana, arial, sans-serif; font-size: 12px; fill: rgb(42, 63, 95); fill-opacity: 1; white-space: pre; opacity: 1;\" transform=\"translate(0,195.82999999999998)\">Fr 2021-12-17</text></g><g class=\"ytick\"><text text-anchor=\"end\" x=\"121\" y=\"4.199999999999999\" style=\"font-family: 'Open Sans', verdana, arial, sans-serif; font-size: 12px; fill: rgb(42, 63, 95); fill-opacity: 1; white-space: pre; opacity: 1;\" transform=\"translate(0,202.25)\"> </text></g><g class=\"ytick\"><text text-anchor=\"end\" x=\"121\" y=\"4.199999999999999\" style=\"font-family: 'Open Sans', verdana, arial, sans-serif; font-size: 12px; fill: rgb(42, 63, 95); fill-opacity: 1; white-space: pre; opacity: 1;\" transform=\"translate(0,208.67)\">Sa 2021-12-18</text></g><g class=\"ytick\"><text text-anchor=\"end\" x=\"121\" y=\"4.199999999999999\" style=\"font-family: 'Open Sans', verdana, arial, sans-serif; font-size: 12px; fill: rgb(42, 63, 95); fill-opacity: 1; white-space: pre; opacity: 1;\" transform=\"translate(0,215.07999999999998)\"> </text></g><g class=\"ytick\"><text text-anchor=\"end\" x=\"121\" y=\"4.199999999999999\" style=\"font-family: 'Open Sans', verdana, arial, sans-serif; font-size: 12px; fill: rgb(42, 63, 95); fill-opacity: 1; white-space: pre; opacity: 1;\" transform=\"translate(0,221.5)\">Su 2021-12-19</text></g><g class=\"ytick\"><text text-anchor=\"end\" x=\"121\" y=\"4.199999999999999\" style=\"font-family: 'Open Sans', verdana, arial, sans-serif; font-size: 12px; fill: rgb(42, 63, 95); fill-opacity: 1; white-space: pre; opacity: 1;\" transform=\"translate(0,227.92)\"> </text></g><g class=\"ytick\"><text text-anchor=\"end\" x=\"121\" y=\"4.199999999999999\" style=\"font-family: 'Open Sans', verdana, arial, sans-serif; font-size: 12px; fill: rgb(42, 63, 95); fill-opacity: 1; white-space: pre; opacity: 1;\" transform=\"translate(0,234.32999999999998)\">Mo 2021-12-20</text></g><g class=\"ytick\"><text text-anchor=\"end\" x=\"121\" y=\"4.199999999999999\" style=\"font-family: 'Open Sans', verdana, arial, sans-serif; font-size: 12px; fill: rgb(42, 63, 95); fill-opacity: 1; white-space: pre; opacity: 1;\" transform=\"translate(0,240.75)\"> </text></g><g class=\"ytick\"><text text-anchor=\"end\" x=\"121\" y=\"4.199999999999999\" style=\"font-family: 'Open Sans', verdana, arial, sans-serif; font-size: 12px; fill: rgb(42, 63, 95); fill-opacity: 1; white-space: pre; opacity: 1;\" transform=\"translate(0,247.17)\">Tu 2021-12-21</text></g><g class=\"ytick\"><text text-anchor=\"end\" x=\"121\" y=\"4.199999999999999\" style=\"font-family: 'Open Sans', verdana, arial, sans-serif; font-size: 12px; fill: rgb(42, 63, 95); fill-opacity: 1; white-space: pre; opacity: 1;\" transform=\"translate(0,253.57999999999998)\"> </text></g><g class=\"ytick\"><text text-anchor=\"end\" x=\"121\" y=\"4.199999999999999\" style=\"font-family: 'Open Sans', verdana, arial, sans-serif; font-size: 12px; fill: rgb(42, 63, 95); fill-opacity: 1; white-space: pre; opacity: 1;\" transform=\"translate(0,260)\">We 2021-12-22</text></g><g class=\"ytick\"><text text-anchor=\"end\" x=\"121\" y=\"4.199999999999999\" style=\"font-family: 'Open Sans', verdana, arial, sans-serif; font-size: 12px; fill: rgb(42, 63, 95); fill-opacity: 1; white-space: pre; opacity: 1;\" transform=\"translate(0,266.41999999999996)\"> </text></g><g class=\"ytick\"><text text-anchor=\"end\" x=\"121\" y=\"4.199999999999999\" style=\"font-family: 'Open Sans', verdana, arial, sans-serif; font-size: 12px; fill: rgb(42, 63, 95); fill-opacity: 1; white-space: pre; opacity: 1;\" transform=\"translate(0,272.83)\">Th 2021-12-23</text></g><g class=\"ytick\"><text text-anchor=\"end\" x=\"121\" y=\"4.199999999999999\" style=\"font-family: 'Open Sans', verdana, arial, sans-serif; font-size: 12px; fill: rgb(42, 63, 95); fill-opacity: 1; white-space: pre; opacity: 1;\" transform=\"translate(0,279.25)\"> </text></g><g class=\"ytick\"><text text-anchor=\"end\" x=\"121\" y=\"4.199999999999999\" style=\"font-family: 'Open Sans', verdana, arial, sans-serif; font-size: 12px; fill: rgb(42, 63, 95); fill-opacity: 1; white-space: pre; opacity: 1;\" transform=\"translate(0,285.66999999999996)\">Mo 2021-12-27</text></g><g class=\"ytick\"><text text-anchor=\"end\" x=\"121\" y=\"4.199999999999999\" style=\"font-family: 'Open Sans', verdana, arial, sans-serif; font-size: 12px; fill: rgb(42, 63, 95); fill-opacity: 1; white-space: pre; opacity: 1;\" transform=\"translate(0,292.08)\"> </text></g><g class=\"ytick\"><text text-anchor=\"end\" x=\"121\" y=\"4.199999999999999\" style=\"font-family: 'Open Sans', verdana, arial, sans-serif; font-size: 12px; fill: rgb(42, 63, 95); fill-opacity: 1; white-space: pre; opacity: 1;\" transform=\"translate(0,298.5)\">Tu 2021-12-28</text></g><g class=\"ytick\"><text text-anchor=\"end\" x=\"121\" y=\"4.199999999999999\" style=\"font-family: 'Open Sans', verdana, arial, sans-serif; font-size: 12px; fill: rgb(42, 63, 95); fill-opacity: 1; white-space: pre; opacity: 1;\" transform=\"translate(0,304.91999999999996)\"> </text></g><g class=\"ytick\"><text text-anchor=\"end\" x=\"121\" y=\"4.199999999999999\" style=\"font-family: 'Open Sans', verdana, arial, sans-serif; font-size: 12px; fill: rgb(42, 63, 95); fill-opacity: 1; white-space: pre; opacity: 1;\" transform=\"translate(0,311.33)\">We 2021-12-29</text></g><g class=\"ytick\"><text text-anchor=\"end\" x=\"121\" y=\"4.199999999999999\" style=\"font-family: 'Open Sans', verdana, arial, sans-serif; font-size: 12px; fill: rgb(42, 63, 95); fill-opacity: 1; white-space: pre; opacity: 1;\" transform=\"translate(0,317.75)\"> </text></g><g class=\"ytick\"><text text-anchor=\"end\" x=\"121\" y=\"4.199999999999999\" style=\"font-family: 'Open Sans', verdana, arial, sans-serif; font-size: 12px; fill: rgb(42, 63, 95); fill-opacity: 1; white-space: pre; opacity: 1;\" transform=\"translate(0,324.16999999999996)\">Th 2021-12-30</text></g><g class=\"ytick\"><text text-anchor=\"end\" x=\"121\" y=\"4.199999999999999\" style=\"font-family: 'Open Sans', verdana, arial, sans-serif; font-size: 12px; fill: rgb(42, 63, 95); fill-opacity: 1; white-space: pre; opacity: 1;\" transform=\"translate(0,330.58)\"> </text></g><g class=\"ytick\"><text text-anchor=\"end\" x=\"121\" y=\"4.199999999999999\" style=\"font-family: 'Open Sans', verdana, arial, sans-serif; font-size: 12px; fill: rgb(42, 63, 95); fill-opacity: 1; white-space: pre; opacity: 1;\" transform=\"translate(0,337)\">Mo 2022-01-03</text></g><g class=\"ytick\"><text text-anchor=\"end\" x=\"121\" y=\"4.199999999999999\" style=\"font-family: 'Open Sans', verdana, arial, sans-serif; font-size: 12px; fill: rgb(42, 63, 95); fill-opacity: 1; white-space: pre; opacity: 1;\" transform=\"translate(0,343.41999999999996)\"> </text></g><g class=\"ytick\"><text text-anchor=\"end\" x=\"121\" y=\"4.199999999999999\" style=\"font-family: 'Open Sans', verdana, arial, sans-serif; font-size: 12px; fill: rgb(42, 63, 95); fill-opacity: 1; white-space: pre; opacity: 1;\" transform=\"translate(0,349.83)\">Tu 2022-01-04</text></g><g class=\"ytick\"><text text-anchor=\"end\" x=\"121\" y=\"4.199999999999999\" style=\"font-family: 'Open Sans', verdana, arial, sans-serif; font-size: 12px; fill: rgb(42, 63, 95); fill-opacity: 1; white-space: pre; opacity: 1;\" transform=\"translate(0,356.25)\"> </text></g><g class=\"ytick\"><text text-anchor=\"end\" x=\"121\" y=\"4.199999999999999\" style=\"font-family: 'Open Sans', verdana, arial, sans-serif; font-size: 12px; fill: rgb(42, 63, 95); fill-opacity: 1; white-space: pre; opacity: 1;\" transform=\"translate(0,362.66999999999996)\">We 2022-01-05</text></g><g class=\"ytick\"><text text-anchor=\"end\" x=\"121\" y=\"4.199999999999999\" style=\"font-family: 'Open Sans', verdana, arial, sans-serif; font-size: 12px; fill: rgb(42, 63, 95); fill-opacity: 1; white-space: pre; opacity: 1;\" transform=\"translate(0,369.08)\"> </text></g><g class=\"ytick\"><text text-anchor=\"end\" x=\"121\" y=\"4.199999999999999\" style=\"font-family: 'Open Sans', verdana, arial, sans-serif; font-size: 12px; fill: rgb(42, 63, 95); fill-opacity: 1; white-space: pre; opacity: 1;\" transform=\"translate(0,375.5)\">Th 2022-01-06</text></g><g class=\"ytick\"><text text-anchor=\"end\" x=\"121\" y=\"4.199999999999999\" style=\"font-family: 'Open Sans', verdana, arial, sans-serif; font-size: 12px; fill: rgb(42, 63, 95); fill-opacity: 1; white-space: pre; opacity: 1;\" transform=\"translate(0,381.92)\"> </text></g><g class=\"ytick\"><text text-anchor=\"end\" x=\"121\" y=\"4.199999999999999\" style=\"font-family: 'Open Sans', verdana, arial, sans-serif; font-size: 12px; fill: rgb(42, 63, 95); fill-opacity: 1; white-space: pre; opacity: 1;\" transform=\"translate(0,388.33)\">Fr 2022-01-07</text></g><g class=\"ytick\"><text text-anchor=\"end\" x=\"121\" y=\"4.199999999999999\" style=\"font-family: 'Open Sans', verdana, arial, sans-serif; font-size: 12px; fill: rgb(42, 63, 95); fill-opacity: 1; white-space: pre; opacity: 1;\" transform=\"translate(0,394.75)\"> </text></g></g><g class=\"overaxes-above\"/></g></g><g class=\"polarlayer\"/><g class=\"smithlayer\"/><g class=\"ternarylayer\"/><g class=\"geolayer\"/><g class=\"funnelarealayer\"/><g class=\"pielayer\"/><g class=\"iciclelayer\"/><g class=\"treemaplayer\"/><g class=\"sunburstlayer\"/><g class=\"glimages\"/><defs id=\"topdefs-4e40c7\"><g class=\"clips\"/></defs><g class=\"layer-above\"><g class=\"imagelayer\"/><g class=\"shapelayer\"><path data-index=\"0\" fill-rule=\"evenodd\" d=\"M738,394.75L738,125.24999999999999\" clip-path=\"url(#clip4e40c7x)\" style=\"opacity: 1; stroke: rgb(255, 255, 255); stroke-opacity: 1; fill: rgb(0, 0, 0); fill-opacity: 0; stroke-width: 2px;\"/></g></g><g class=\"infolayer\"><g class=\"cbcoloraxis colorbar\" transform=\"translate(122,100)\"><rect class=\"cbbg\" x=\"785\" y=\"0\" width=\"81.015625\" height=\"320\" style=\"fill: rgb(0, 0, 0); fill-opacity: 0; stroke: rgb(68, 68, 68); stroke-opacity: 1; stroke-width: 0;\"/><g class=\"cbfills\" transform=\"translate(0,34)\"><rect class=\"cbfill\" x=\"795\" y=\"0\" width=\"30\" height=\"276\" style=\"fill: url('#g4e40c7-cbcoloraxis');\"/></g><g class=\"cblines\" transform=\"translate(0,34)\"/><g class=\"cbaxis crisp\" transform=\"translate(0,-100)\"><g class=\"ycbcoloraxistick\"><text text-anchor=\"start\" x=\"827.9\" y=\"4.199999999999999\" transform=\"translate(0,410)\" style=\"font-family: 'Open Sans', verdana, arial, sans-serif; font-size: 12px; fill: rgb(42, 63, 95); fill-opacity: 1; white-space: pre; opacity: 1;\">0</text></g><g class=\"ycbcoloraxistick\"><text text-anchor=\"start\" x=\"827.9\" y=\"4.199999999999999\" style=\"font-family: 'Open Sans', verdana, arial, sans-serif; font-size: 12px; fill: rgb(42, 63, 95); fill-opacity: 1; white-space: pre; opacity: 1;\" transform=\"translate(0,354.8)\">0.2</text></g><g class=\"ycbcoloraxistick\"><text text-anchor=\"start\" x=\"827.9\" y=\"4.199999999999999\" style=\"font-family: 'Open Sans', verdana, arial, sans-serif; font-size: 12px; fill: rgb(42, 63, 95); fill-opacity: 1; white-space: pre; opacity: 1;\" transform=\"translate(0,299.6)\">0.4</text></g><g class=\"ycbcoloraxistick\"><text text-anchor=\"start\" x=\"827.9\" y=\"4.199999999999999\" style=\"font-family: 'Open Sans', verdana, arial, sans-serif; font-size: 12px; fill: rgb(42, 63, 95); fill-opacity: 1; white-space: pre; opacity: 1;\" transform=\"translate(0,244.4)\">0.6</text></g><g class=\"ycbcoloraxistick\"><text text-anchor=\"start\" x=\"827.9\" y=\"4.199999999999999\" style=\"font-family: 'Open Sans', verdana, arial, sans-serif; font-size: 12px; fill: rgb(42, 63, 95); fill-opacity: 1; white-space: pre; opacity: 1;\" transform=\"translate(0,189.2)\">0.8</text></g><g class=\"ycbcoloraxistick\"><text text-anchor=\"start\" x=\"827.9\" y=\"4.199999999999999\" style=\"font-family: 'Open Sans', verdana, arial, sans-serif; font-size: 12px; fill: rgb(42, 63, 95); fill-opacity: 1; white-space: pre; opacity: 1;\" transform=\"translate(0,134)\">1</text></g></g><g class=\"cbtitleunshift\" transform=\"translate(-122,-100)\"><g class=\"cbtitle\" transform=\"\"><text class=\"ycbcoloraxistitle\" x=\"917.4\" y=\"123.5\" text-anchor=\"start\" style=\"font-family: 'Open Sans', verdana, arial, sans-serif; font-size: 14px; fill: rgb(42, 63, 95); opacity: 1; font-weight: normal; white-space: pre;\">bookable</text></g></g><rect class=\"cboutline\" x=\"795\" y=\"34\" width=\"30\" height=\"276\" style=\"stroke: rgb(68, 68, 68); stroke-opacity: 1; fill: none; stroke-width: 0;\"/></g><g class=\"g-gtitle\"><text class=\"gtitle\" x=\"50\" y=\"50\" text-anchor=\"start\" dy=\"0em\" style=\"font-family: 'Open Sans', verdana, arial, sans-serif; font-size: 17px; fill: rgb(42, 63, 95); opacity: 1; font-weight: normal; white-space: pre;\">Main campus bookability per day (2 slots/rows per day)</text></g><g class=\"g-xtitle\"><text class=\"xtitle\" x=\"507\" y=\"451.659375\" text-anchor=\"middle\" style=\"font-family: 'Open Sans', verdana, arial, sans-serif; font-size: 14px; fill: rgb(42, 63, 95); opacity: 1; font-weight: normal; white-space: pre;\">offset relative to booking day</text></g><g class=\"g-ytitle\" transform=\"translate(2.6123046875,0)\"><text class=\"ytitle\" transform=\"rotate(-90,12.387500000000003,260)\" x=\"12.387500000000003\" y=\"260\" text-anchor=\"middle\" style=\"font-family: 'Open Sans', verdana, arial, sans-serif; font-size: 14px; fill: rgb(42, 63, 95); opacity: 1; font-weight: normal; white-space: pre;\">slot</text></g></g></svg>"
     },
     "metadata": {},
     "output_type": "display_data"
    }
   ],
   "source": [
    "# Visualize bookings relative to booking day.\n",
    "\n",
    "resample_mins = 15\n",
    "full_values = 1800 / resample_mins\n",
    "\n",
    "matrix = []\n",
    "\n",
    "library_bookings = bookings[bookings.library == libraries[0]]\n",
    "slots = library_bookings[['day', 'period_start', 'period_end']].drop_duplicates().values\n",
    "\n",
    "for day, period_start, _ in slots:\n",
    "    slot_bookings = library_bookings[\n",
    "        (library_bookings.day == day) & (library_bookings.period_start == period_start)\n",
    "    ]\n",
    "    bookable = (\n",
    "        slot_bookings.bookable.groupby(slot_bookings.offset)\n",
    "        .mean()\n",
    "        .resample(f'{resample_mins}min')\n",
    "        .mean()\n",
    "    )\n",
    "\n",
    "    if bookable.count() != full_values:\n",
    "        continue\n",
    "\n",
    "    matrix.append(bookable.values)\n",
    "\n",
    "fig = px.imshow(\n",
    "    matrix,\n",
    "    labels=dict(x='offset relative to booking day', y='slot', color='bookable'),\n",
    "    title='Main campus bookability per day (2 slots/rows per day)',\n",
    ")\n",
    "fig.update_layout(\n",
    "    xaxis=dict(\n",
    "        tickmode='array',\n",
    "        tickvals=[-0.5, 2 * full_values // 5 - 0.5, 4 * full_values // 5 - 0.5, full_values - 0.5],\n",
    "        ticktext=[\n",
    "            '00:00<br>day before',\n",
    "            '12:00<br>day before',\n",
    "            '00:00<br>booking day',\n",
    "            '06:00<br>booking day',\n",
    "        ],\n",
    "    ),\n",
    "    yaxis=dict(\n",
    "        tickmode='array',\n",
    "        tickvals=[i + 0.5 for i in range(len(matrix))],\n",
    "        ticktext=[\n",
    "            f'{day.day_name()[:2]} {day.date()}' if not i % 2 else ' '\n",
    "            for i, (day, _, _) in enumerate(slots)\n",
    "        ],\n",
    "    ),\n",
    "    width=1000\n",
    ")\n",
    "\n",
    "fig.add_vline(4 * full_values // 5 - 0.5, line_color='white', line_width=2)\n",
    "fig.show('svg')  # visibility in github \n"
   ]
  },
  {
   "cell_type": "code",
   "execution_count": null,
   "metadata": {},
   "outputs": [],
   "source": []
  }
 ],
 "metadata": {
  "interpreter": {
   "hash": "fa9c5a8f1f4deddb2ec8235298079442a1fa1dd657a205c118aef888c2110fcf"
  },
  "kernelspec": {
   "display_name": "Python 3.9.0 64-bit ('3.9.0': pyenv)",
   "language": "python",
   "name": "python3"
  },
  "language_info": {
   "codemirror_mode": {
    "name": "ipython",
    "version": 3
   },
   "file_extension": ".py",
   "mimetype": "text/x-python",
   "name": "python",
   "nbconvert_exporter": "python",
   "pygments_lexer": "ipython3",
   "version": "3.9.0"
  },
  "orig_nbformat": 4
 },
 "nbformat": 4,
 "nbformat_minor": 2
}
